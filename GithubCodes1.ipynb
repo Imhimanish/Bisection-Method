{
  "nbformat": 4,
  "nbformat_minor": 0,
  "metadata": {
    "colab": {
      "provenance": [],
      "authorship_tag": "ABX9TyOtvz+Zup7QOKsG0FGU4ghf",
      "include_colab_link": true
    },
    "kernelspec": {
      "name": "python3",
      "display_name": "Python 3"
    },
    "language_info": {
      "name": "python"
    }
  },
  "cells": [
    {
      "cell_type": "markdown",
      "metadata": {
        "id": "view-in-github",
        "colab_type": "text"
      },
      "source": [
        "<a href=\"https://colab.research.google.com/github/Imhimanish/Bisection-Method/blob/main/GithubCodes1.ipynb\" target=\"_parent\"><img src=\"https://colab.research.google.com/assets/colab-badge.svg\" alt=\"Open In Colab\"/></a>"
      ]
    },
    {
      "cell_type": "code",
      "execution_count": 4,
      "metadata": {
        "colab": {
          "base_uri": "https://localhost:8080/"
        },
        "id": "XVU1aXZuWOpd",
        "outputId": "80dd35f8-9ae7-4484-9004-37c2ac207826"
      },
      "outputs": [
        {
          "output_type": "stream",
          "name": "stdout",
          "text": [
            "The root is - 2.5\n",
            "The root is - 2.625\n",
            "The root is - 2.6875\n",
            "The root is - 2.71875\n",
            "The root is - 2.7265625\n",
            "The root is - 2.73046875\n",
            "The root is - 2.7314453125\n",
            "The root is - 2.73193359375\n",
            "The root is - 2.73199462890625\n",
            "The root is - 2.732025146484375\n"
          ]
        }
      ],
      "source": [
        "import numpy as np\n",
        "import time as t\n",
        "\n",
        "def f(x):\n",
        " return x**3 - 3*(x**2)+2\n",
        "\n",
        "xi = 2\n",
        "xf = 4\n",
        "xdiff = 1\n",
        "\n",
        "if f(xi)*f(xf)<0: \n",
        " while xdiff > 0.0001:\n",
        "  Xa = (xi + xf)/2\n",
        "  fi = f(xi)\n",
        "  fa = f(Xa)\n",
        "\n",
        "  if f(xf) * f(Xa) == 0:\n",
        "    print(\"Root is-\",Xa )\n",
        "    break\n",
        "\n",
        "  elif f(xi) * f(Xa) < 0:\n",
        "    xf = Xa\n",
        "\n",
        "  else:\n",
        "    xi,fi = Xa,fa\n",
        "    nXa = (xi + xf)/2\n",
        "    xdiff = abs(f(nXa) - f(Xa))\n",
        "    print(\"The root is -\",Xa)\n",
        "\n",
        "else:\n",
        " print(\"Take new limits - \")"
      ]
    }
  ]
}